{
  "nbformat": 4,
  "nbformat_minor": 0,
  "metadata": {
    "colab": {
      "provenance": []
    },
    "kernelspec": {
      "name": "python3",
      "display_name": "Python 3"
    },
    "language_info": {
      "name": "python"
    }
  },
  "cells": [
    {
      "cell_type": "code",
      "execution_count": null,
      "metadata": {
        "id": "kkRpIjjxUGVW"
      },
      "outputs": [],
      "source": [
        "class Morphology:\n",
        "    def __init__(self):\n",
        "      self.words = {\n",
        "          \"play\": [\"playing\", \"played\", \"playful\"],\n",
        "          \"run\": [\"running\", \"runner\", \"ran\"],\n",
        "          \"happy\": [\"happiness\", \"unhappy\", \"happier\"],\n",
        "      }\n",
        "\n",
        "    def add_morpheme(self, base_word, morpheme):\n",
        "      if base_word not in self.words:\n",
        "        self.words[base_word] = []\n",
        "      new_word = base_word + morpheme\n",
        "      self.words[base_word].append(new_word)\n",
        "      return new_word\n",
        "\n",
        "    def delete_word(self, word):\n",
        "        for base, variations in self.words.items():\n",
        "            if word in variations:\n",
        "                for variation in variations:\n",
        "                    if word == variation:\n",
        "                        affix = word.replace(base, \"\")\n",
        "                        return base\n",
        "        return None\n",
        "\n",
        "    def display_table(self):\n",
        "        print(\"| Base Word | Addition (Morpheme) | New Word | Deletion (Clipping) | Base Word |\")\n",
        "        print(\"|-----------|---------------------|----------|---------------------|-----------|\")\n",
        "        for base, modified_list in self.words.items():\n",
        "          for modified in modified_list:\n",
        "            affix = modified.replace(base, \"\")\n",
        "            print(f\"| {base:<9} | +{affix:<21} | {modified:<8} | -{affix:<20} | {base:<9} |\")"
      ]
    },
    {
      "cell_type": "code",
      "source": [
        "if __name__ == \"__main__\":\n",
        "    morph = Morphology()\n",
        "    morph.display_table()\n",
        "\n",
        "    # Interactive Example\n",
        "    base_word = input(\"\\nEnter a base word: \").strip().lower()\n",
        "    morpheme = input(\"Enter a morpheme to add: \").strip().lower()\n",
        "    new_word = morph.add_morpheme(base_word, morpheme)\n",
        "    print(\"New word after affixation:\", new_word)\n",
        "\n",
        "    print(\"\\nUpdated Morphology Table:\")\n",
        "    morph.display_table()\n",
        "\n",
        "    affixed_word = input(\"\\nEnter a word with an affix to remove it: \").strip().lower()\n",
        "    root_word = morph.delete_word(affixed_word)\n",
        "\n",
        "    if root_word:\n",
        "        print(\"Root word after affix removal:\", root_word)\n",
        "    else:\n",
        "        print(\"Word not found in the morphology database.\")"
      ],
      "metadata": {
        "colab": {
          "base_uri": "https://localhost:8080/"
        },
        "id": "_0drmEwAUazt",
        "outputId": "d6d84a3c-b4ca-452d-c59e-9b6bead27ee6"
      },
      "execution_count": null,
      "outputs": [
        {
          "output_type": "stream",
          "name": "stdout",
          "text": [
            "| Base Word | Addition (Morpheme) | New Word | Deletion (Clipping) | Base Word |\n",
            "|-----------|---------------------|----------|---------------------|-----------|\n",
            "| play      | +ing                   | playing  | -ing                  | play      |\n",
            "| play      | +ed                    | played   | -ed                   | play      |\n",
            "| play      | +ful                   | playful  | -ful                  | play      |\n",
            "| run       | +ning                  | running  | -ning                 | run       |\n",
            "| run       | +ner                   | runner   | -ner                  | run       |\n",
            "| run       | +ran                   | ran      | -ran                  | run       |\n",
            "| happy     | +happiness             | happiness | -happiness            | happy     |\n",
            "| happy     | +un                    | unhappy  | -un                   | happy     |\n",
            "| happy     | +happier               | happier  | -happier              | happy     |\n",
            "\n",
            "Enter a base word: sing\n",
            "Enter a morpheme to add: ing\n",
            "New word after affixation: singing\n",
            "\n",
            "Updated Morphology Table:\n",
            "| Base Word | Addition (Morpheme) | New Word | Deletion (Clipping) | Base Word |\n",
            "|-----------|---------------------|----------|---------------------|-----------|\n",
            "| play      | +ing                   | playing  | -ing                  | play      |\n",
            "| play      | +ed                    | played   | -ed                   | play      |\n",
            "| play      | +ful                   | playful  | -ful                  | play      |\n",
            "| run       | +ning                  | running  | -ning                 | run       |\n",
            "| run       | +ner                   | runner   | -ner                  | run       |\n",
            "| run       | +ran                   | ran      | -ran                  | run       |\n",
            "| happy     | +happiness             | happiness | -happiness            | happy     |\n",
            "| happy     | +un                    | unhappy  | -un                   | happy     |\n",
            "| happy     | +happier               | happier  | -happier              | happy     |\n",
            "| sing      | +ing                   | singing  | -ing                  | sing      |\n",
            "\n",
            "Enter a word with an affix to remove it: running\n",
            "Root word after affix removal: run\n"
          ]
        }
      ]
    }
  ]
}